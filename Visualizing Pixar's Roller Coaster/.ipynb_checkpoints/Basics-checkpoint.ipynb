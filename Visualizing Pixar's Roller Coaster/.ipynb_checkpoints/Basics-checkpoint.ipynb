{
 "cells": [
  {
   "cell_type": "code",
   "execution_count": 1,
   "metadata": {
    "collapsed": false
   },
   "outputs": [
    {
     "name": "stdout",
     "output_type": "stream",
     "text": [
      "   Year Released         Movie  Length  RT Score  IMDB Score  \\\n",
      "0           1995     Toy Story      81       100         8.3   \n",
      "1           1998  A Bug's Life      96        92         7.2   \n",
      "\n",
      "   Metacritic Score  Opening Weekend  Worldwide Gross  Domestic Gross  \\\n",
      "0                92            29.14            362.0           191.8   \n",
      "1                77            33.26            363.4           162.8   \n",
      "\n",
      "   Adjusted Domestic Gross  International Gross Domestic % International %  \\\n",
      "0                   356.21                170.2     52.98%          47.02%   \n",
      "1                   277.18                200.6     44.80%          55.20%   \n",
      "\n",
      "   Production Budget  Oscars Nominated  Oscars Won  \n",
      "0                 30               3.0         0.0  \n",
      "1                 45               1.0         0.0  \n"
     ]
    }
   ],
   "source": [
    "import pandas as pd\n",
    "movies = pd.read_csv('PixarMovies.csv')\n",
    "print(movies.head(2))"
   ]
  },
  {
   "cell_type": "code",
   "execution_count": null,
   "metadata": {
    "collapsed": true
   },
   "outputs": [],
   "source": []
  }
 ],
 "metadata": {
  "kernelspec": {
   "display_name": "Python 3",
   "language": "python",
   "name": "python3"
  },
  "language_info": {
   "codemirror_mode": {
    "name": "ipython",
    "version": 3
   },
   "file_extension": ".py",
   "mimetype": "text/x-python",
   "name": "python",
   "nbconvert_exporter": "python",
   "pygments_lexer": "ipython3",
   "version": "3.4.3"
  }
 },
 "nbformat": 4,
 "nbformat_minor": 0
}
